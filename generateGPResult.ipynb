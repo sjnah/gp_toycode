{
 "cells": [
  {
   "cell_type": "code",
   "execution_count": 1,
   "id": "3d2a228e",
   "metadata": {},
   "outputs": [],
   "source": [
    "import numpy as np\n",
    "from numpy.linalg import inv,det\n",
    "import matplotlib.pyplot as plt\n",
    "\n",
    "# For GPR\n",
    "from sklearn.gaussian_process import GaussianProcessRegressor\n",
    "from sklearn.gaussian_process.kernels import RBF\n",
    "\n",
    "# For polynominal Mean prediction\n",
    "from sklearn.preprocessing import PolynomialFeatures\n",
    "from sklearn.linear_model import LinearRegression"
   ]
  },
  {
   "cell_type": "markdown",
   "id": "114e3c4a",
   "metadata": {},
   "source": [
    "## Configuration, Data Info"
   ]
  },
  {
   "cell_type": "code",
   "execution_count": 2,
   "id": "3ad9d0a5",
   "metadata": {},
   "outputs": [],
   "source": [
    "# Data, output file address\n",
    "data_address = \"./data/\"\n",
    "output_address = \"./output/\"\n",
    "\n",
    "# Data Configuration\n",
    "data_length = 50\n",
    "\n",
    "# Mean function Configuration\n",
    "linear_horizon = 10 # linear regression indice 길이, t(end)로부터 얼마나 할지\n",
    "poly_order = 3 # polynominal regression 차수\n",
    "\n",
    "# GP Configuration - parameter\n",
    "lengthscale = 1.0\n",
    "sigma = 1.0\n",
    "\n",
    "# GP Configuration - prediction\n",
    "pred_length = 10"
   ]
  },
  {
   "cell_type": "markdown",
   "id": "86b28e6e",
   "metadata": {},
   "source": [
    "## Data Load"
   ]
  },
  {
   "cell_type": "code",
   "execution_count": 3,
   "id": "ab379e4a",
   "metadata": {},
   "outputs": [],
   "source": [
    "# Data load\n",
    "\n",
    "\n",
    "import time\n",
    "tic = time.time()"
   ]
  },
  {
   "cell_type": "markdown",
   "id": "76b19ddb",
   "metadata": {},
   "source": [
    "## Transform Data to Error-wise"
   ]
  },
  {
   "cell_type": "code",
   "execution_count": 4,
   "id": "27041abc",
   "metadata": {},
   "outputs": [],
   "source": [
    "# Generate temp data\n",
    "t = np.linspace(start=0, stop=20, num = data_length+pred_length).reshape(-1,1)\n",
    "X = np.squeeze(t*np.sin(t))"
   ]
  },
  {
   "cell_type": "code",
   "execution_count": 5,
   "id": "a2b70dd4",
   "metadata": {},
   "outputs": [],
   "source": [
    "# Linear Regression\n",
    "def linear_mean_func(t, x, horizon=10):\n",
    "    # Set numpy indices for linear regression\n",
    "    indices = np.arange(start=t.size-10, stop=t.size)\n",
    "    \n",
    "    # Linear regression\n",
    "    model = LinearRegression()\n",
    "    model.fit(t[indices], x[indices])\n",
    "    \n",
    "    # Generate mean in regard to observation timestep \n",
    "    mean_pred = model.predict(t[indices])\n",
    "    \n",
    "    # Plot\n",
    "    if(show_inner_plt==True):\n",
    "        plt.subplot(2,1,1)\n",
    "        plt.plot(t, x, label='data')\n",
    "        plt.scatter(t, x, label='Observation')\n",
    "        plt.scatter(t[indices], mean_pred, label='linear regression')\n",
    "        plt.xlabel('time (s)')\n",
    "\n",
    "    return mean_pred\n",
    "\n",
    "# Polynominal Regression\n",
    "def polyn_mean_func(t, x, order=3):\n",
    "    # generate Polynominal\n",
    "    poly = PolynomialFeatures(degree=order, include_bias=True)\n",
    "    t_poly = poly.fit_transform(t)\n",
    "    \n",
    "    # Fit\n",
    "    model = LinearRegression()\n",
    "    model.fit(t_poly, x)\n",
    "    \n",
    "    # Generate mean in regard to observation timestep \n",
    "    mean_pred = model.predict(t_poly)\n",
    "    \n",
    "    # Plot\n",
    "    if(show_inner_plt==True):\n",
    "        plt.subplot(2,1,1)\n",
    "        plt.plot(t, x, 'k', label='data')\n",
    "        plt.scatter(t, x, c='red', label='Observation')\n",
    "        plt.scatter(t, mean_pred, label='polynominal regression')\n",
    "        plt.xlabel('time (s)')\n",
    "        plt.legend()\n",
    "    \n",
    "    return mean_pred\n",
    "\n",
    "# Unicycle (TBD)\n",
    "def Unicycle_mean_func(t,x,y):\n",
    "    mean_pred = 0\n",
    "    return mean_pred"
   ]
  },
  {
   "cell_type": "code",
   "execution_count": 6,
   "id": "8c150f6b",
   "metadata": {},
   "outputs": [],
   "source": [
    "show_inner_plt = False\n",
    "\n",
    "# Transform Data\n",
    "# X_mean = linear_mean_func(t, x, horizon=linear_horizon)\n",
    "X_mean = polyn_mean_func(t, X, order=8)\n",
    "X_err_train = X - X_mean\n",
    "\n",
    "# Show X_error\n",
    "if(show_inner_plt==True):\n",
    "    plt.subplot(2,1,2)\n",
    "    plt.plot(t, X_err_train, label='X_error')\n",
    "    plt.xlabel('time (s)')\n",
    "\n",
    "    plt.show()"
   ]
  },
  {
   "cell_type": "markdown",
   "id": "f6957e5c",
   "metadata": {},
   "source": [
    "## GPR"
   ]
  },
  {
   "cell_type": "code",
   "execution_count": 7,
   "id": "06ee8e3a",
   "metadata": {},
   "outputs": [],
   "source": [
    "noise_std = 1.25\n",
    "\n",
    "# GP & Kernel Define\n",
    "kernel = 1 * RBF(\n",
    "    length_scale=1.0,\n",
    "    length_scale_bounds=(1e-1, 1e+1)\n",
    ")\n",
    "gaussian_process = GaussianProcessRegressor(\n",
    "    kernel=kernel,\n",
    "    alpha=noise_std**2,\n",
    "    n_restarts_optimizer=9\n",
    ")\n",
    "\n",
    "# Fit (Parameter Learning)\n",
    "gaussian_process.fit(t[:data_length], X_err_train[:data_length])\n",
    "\n",
    "# Show Trained Kernel\n",
    "# gaussian_process.kernel_\n",
    "\n",
    "# GP Regression\n",
    "mean_prediction, std_prediction = gaussian_process.predict(t, return_std=True)"
   ]
  },
  {
   "cell_type": "code",
   "execution_count": 8,
   "id": "d1bd1705",
   "metadata": {},
   "outputs": [],
   "source": [
    "a = [1,2,3,4,5]"
   ]
  },
  {
   "cell_type": "markdown",
   "id": "2b27085a",
   "metadata": {},
   "source": [
    "## Back Transfrom from Error-wise"
   ]
  },
  {
   "cell_type": "code",
   "execution_count": 9,
   "id": "af82b150",
   "metadata": {},
   "outputs": [
    {
     "name": "stdout",
     "output_type": "stream",
     "text": [
      "Elapsed: 0.14 (sec)\n"
     ]
    }
   ],
   "source": [
    "mean_prediction = mean_prediction + X_mean\n",
    "\n",
    "toc = time.time()\n",
    "print('Elapsed: %.2f (sec)' % (toc-tic))"
   ]
  },
  {
   "cell_type": "markdown",
   "id": "27545ccb",
   "metadata": {},
   "source": [
    "## Plot"
   ]
  },
  {
   "cell_type": "code",
   "execution_count": 10,
   "id": "9aa66f5e",
   "metadata": {},
   "outputs": [
    {
     "data": {
      "image/png": "[encoded data removed]",
      "text/plain": [
       "<Figure size 432x288 with 1 Axes>"
      ]
     },
     "metadata": {
      "needs_background": "light"
     },
     "output_type": "display_data"
    }
   ],
   "source": [
    "## Plot Result\n",
    "plt.plot(t, X, label=r\"$f(x) = x \\sin(x)$\", linestyle=\"dotted\")\n",
    "plt.scatter(t[:data_length], X[:data_length], label=\"Observations\")\n",
    "plt.plot(t, mean_prediction, label=\"Mean prediction\")\n",
    "\n",
    "# plot Variance \n",
    "plt.fill_between(\n",
    "    t.ravel(),\n",
    "    mean_prediction - 1.96 * std_prediction,\n",
    "    mean_prediction + 1.96 * std_prediction,\n",
    "    alpha=0.5,\n",
    "    label=r\"95% confidence interval\",\n",
    ")\n",
    "\n",
    "# plot info\n",
    "plt.legend()\n",
    "plt.xlabel(\"$x$\")\n",
    "plt.ylabel(\"$f(x)$\")\n",
    "_ = plt.title(\"Gaussian process regression on noise-free dataset\")"
   ]
  }
 ],
 "metadata": {
  "kernelspec": {
   "display_name": "Python 3 (ipykernel)",
   "language": "python",
   "name": "python3"
  },
  "language_info": {
   "codemirror_mode": {
    "name": "ipython",
    "version": 3
   },
   "file_extension": ".py",
   "mimetype": "text/x-python",
   "name": "python",
   "nbconvert_exporter": "python",
   "pygments_lexer": "ipython3",
   "version": "3.8.10"
  }
 },
 "nbformat": 4,
 "nbformat_minor": 5
}
